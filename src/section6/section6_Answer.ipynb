{
 "cells": [
  {
   "cell_type": "markdown",
   "metadata": {},
   "source": [
    "# 必要なライブラリのインポート\n",
    "\n",
    "今回のレクチャーでも、前回同様に`openpyxl`をインポートしていきましょう。"
   ]
  },
  {
   "cell_type": "code",
   "execution_count": 1,
   "metadata": {},
   "outputs": [],
   "source": [
    "import openpyxl"
   ]
  },
  {
   "cell_type": "markdown",
   "metadata": {},
   "source": [
    "また、今回使うためのExcelシートを先に作成しておきましょう。"
   ]
  },
  {
   "cell_type": "code",
   "execution_count": 2,
   "metadata": {},
   "outputs": [],
   "source": [
    "wb = openpyxl.Workbook()\n",
    "wb.active\n",
    "wb.save('test.xlsx')"
   ]
  },
  {
   "cell_type": "markdown",
   "metadata": {},
   "source": [
    "このtest.xlsxを使って、今回もPython×Excel超入門を始めていきたいと思います。"
   ]
  },
  {
   "cell_type": "markdown",
   "metadata": {},
   "source": [
    "# STEP3 : セルの取り扱い\n",
    "\n",
    "Excel操作を分解すると、以下のようになります。\n",
    "\n",
    "- ファイルの操作\n",
    "- シートの操作\n",
    "- セルの操作\n",
    "\n",
    "前回までのレクチャーで、ファイルの操作とシートの操作をおこなってきたので、今回はセルの操作をおこなっていきたいと思います。\n",
    "\n",
    "Excelの醍醐味とも言える部分。頑張っていきましょう！"
   ]
  },
  {
   "cell_type": "markdown",
   "metadata": {},
   "source": [
    "## セルを指定する\n",
    "\n",
    "セルを操作するには、先にExcelシートを選ぶ必要があります。シート一覧を確認してみましょう。"
   ]
  },
  {
   "cell_type": "code",
   "execution_count": null,
   "metadata": {},
   "outputs": [],
   "source": [
    "# シート一覧を確認する\n",
    "print(wb.sheetnames)"
   ]
  },
  {
   "cell_type": "markdown",
   "metadata": {},
   "source": [
    "シート名一覧を確認すると、`Sheet`の一枚になっているかと思います。\n",
    "\n",
    "普通にExcelファイルを新規作成すると`Sheet1`ですが、PythonでExcelシートを作成する場合、必ず`Sheet`という名前になっていましたね。\n",
    "\n",
    "<br>\n",
    "\n",
    "ここまで確認できたら、実際に編集していくシートを選択していきましょう。"
   ]
  },
  {
   "cell_type": "code",
   "execution_count": null,
   "metadata": {},
   "outputs": [],
   "source": [
    "# 編集するシートを選択\n",
    "ws = wb['Sheet']"
   ]
  },
  {
   "cell_type": "markdown",
   "metadata": {},
   "source": [
    "以下のように書くと、選択したシートも確認できます。"
   ]
  },
  {
   "cell_type": "code",
   "execution_count": null,
   "metadata": {},
   "outputs": [],
   "source": [
    "# シートのタイトルを取得する\n",
    "ws.title"
   ]
  },
  {
   "cell_type": "markdown",
   "metadata": {},
   "source": [
    "### 1つのセルを指定する\n",
    "\n",
    "Excelシートの操作と同様に、セルを編集するためには、「**セルを選択すること**」から始める必要があります。\n",
    "\n",
    "なのでまずは、Excelシート内に入っている1つのシートを選択してみましょう。\n",
    "\n",
    "Excelシートに含まれているシートを選択する方法は、複数あります。"
   ]
  },
  {
   "cell_type": "code",
   "execution_count": null,
   "metadata": {},
   "outputs": [],
   "source": [
    "# (1, 1)のセルを取得する\n",
    "cell1 = ws['A1']\n",
    "cell1"
   ]
  },
  {
   "cell_type": "code",
   "execution_count": null,
   "metadata": {},
   "outputs": [],
   "source": [
    "# 番号指定\n",
    "cell2 = ws.cell(row=1, column=1)\n",
    "cell2"
   ]
  },
  {
   "cell_type": "code",
   "execution_count": null,
   "metadata": {},
   "outputs": [],
   "source": [
    "# row, columnsは省略可能\n",
    "cell3 = ws.cell(1, 1)\n",
    "cell3"
   ]
  },
  {
   "cell_type": "markdown",
   "metadata": {},
   "source": [
    "上記のとおりです。\n",
    "\n",
    "このようにセルを選択してあげると、後からセルの値を参照したり、セルの値を変更したりできます。\n",
    "\n",
    "<br>\n",
    "\n",
    "実際に、すべての結果が一致しているのか確認してみましょう。"
   ]
  },
  {
   "cell_type": "code",
   "execution_count": null,
   "metadata": {},
   "outputs": [],
   "source": [
    "# すべてのセルが一致しているか確認する\n",
    "cell1 == cell2 == cell3"
   ]
  },
  {
   "cell_type": "markdown",
   "metadata": {},
   "source": [
    "こちらのように、すべて結果が一致していますね。\n",
    "\n",
    "1つのセルを指定する方法は、全部で3つということになります。\n",
    "\n",
    "\n",
    "```\n",
    "1.  セルのアドレスを指定する : ws['A1']\n",
    "2.  セルの番号を指定する : ws.cell(row=1, column=1)\n",
    "3.  セルの番号を指定する : ws.cell(1, 1)\n",
    "```\n",
    "\n",
    "以上です。\n",
    "\n",
    "2と3に関しては、実質的に同じ方法になります。\n",
    "\n",
    "ただ省略すると分かりづらい部分が出てきますので、慣れるまではrowとcolumnを書いてあげることをおすすめします。"
   ]
  },
  {
   "cell_type": "markdown",
   "metadata": {},
   "source": [
    "### 複数のセルを指定する\n",
    "\n",
    "1つのセルだけでなく、複数のセルを指定する方法も見ていきましょう。\n"
   ]
  },
  {
   "cell_type": "code",
   "execution_count": null,
   "metadata": {},
   "outputs": [],
   "source": [
    "# A1〜B3を選択\n",
    "range1 = ws['A1:B3']\n",
    "\n",
    "# 以下のように書いてもOK!\n",
    "range2 = ws['A1':'B3']\n",
    "\n",
    "# 同じ結果になっているか確認\n",
    "print(range1 == range2)"
   ]
  },
  {
   "cell_type": "markdown",
   "metadata": {},
   "source": [
    "複数のセルを選択するには、上記のように書きます。\n",
    "\n",
    "1つのクオーテーションにまとめてしまっても良いですし、別々で書いても大丈夫です。\n",
    "\n",
    "<br>\n",
    "\n",
    "Pythonからプログラミングを始めた方であれば、range2で書いた方が分かりやすいかもしれないですね。\n",
    "\n",
    "<br>\n",
    "\n",
    "それでは、実際に選択したセルを見てみます。"
   ]
  },
  {
   "cell_type": "code",
   "execution_count": null,
   "metadata": {},
   "outputs": [],
   "source": [
    "# 中身を確認\n",
    "range1"
   ]
  },
  {
   "cell_type": "markdown",
   "metadata": {},
   "source": [
    "こちらのように、A1〜B3を選択できていますね。\n",
    "\n",
    "そして、中身をよく見てみると、`()`で格納されています。\n",
    "\n",
    "要するに、これは\"タプルの形になっている\"ということです。\n",
    "\n",
    "<br>\n",
    "\n",
    "なので、以下のように書いてあげると、行を選択できるようになりますね。\n",
    "\n"
   ]
  },
  {
   "cell_type": "code",
   "execution_count": null,
   "metadata": {},
   "outputs": [],
   "source": [
    "# インデックス指定で、1行目を取得する\n",
    "range1[0]"
   ]
  },
  {
   "cell_type": "markdown",
   "metadata": {},
   "source": [
    "また、タプルになっているということは、for文を使って取り出せますので、以下のように取得したセルを確認できます。"
   ]
  },
  {
   "cell_type": "code",
   "execution_count": null,
   "metadata": {},
   "outputs": [],
   "source": [
    "# for文を使って、取得したセルを確認する\n",
    "for row in range1:\n",
    "    for cell in row:\n",
    "        print(cell)"
   ]
  },
  {
   "cell_type": "markdown",
   "metadata": {},
   "source": [
    "上記のとおりです。\n",
    "\n",
    "少しコードを書き加えて、もう少し見やすい形で出力してあげましょう。"
   ]
  },
  {
   "cell_type": "code",
   "execution_count": null,
   "metadata": {},
   "outputs": [],
   "source": [
    "# リストを使うことで分かりやすい形にする\n",
    "for row in range1:\n",
    "    format_l = []\n",
    "    for cell in row:\n",
    "        format_l.append(cell.coordinate)\n",
    "    print(format_l)"
   ]
  },
  {
   "cell_type": "markdown",
   "metadata": {},
   "source": [
    "こうすると、Excelのセルと同じ形式でみることができますね。"
   ]
  },
  {
   "cell_type": "markdown",
   "metadata": {},
   "source": [
    "### 演習A\n",
    "\n",
    "先ほど作成した、選択したシートを見やすくするコードを関数化しておきましょう。\n",
    "\n",
    "*※関数化する目的は、いつでも分かりやすい形で閲覧できるようにするためです。*"
   ]
  },
  {
   "cell_type": "code",
   "execution_count": null,
   "metadata": {},
   "outputs": [],
   "source": [
    "# 関数を使って、いつでも分かりやすい形で閲覧できるようにする\n",
    "def show_formated_cell(range_):\n",
    "    for row in range_:\n",
    "        format_l = []\n",
    "        for cell in row:\n",
    "            format_l.append(cell.coordinate)\n",
    "        print(format_l)"
   ]
  },
  {
   "cell_type": "code",
   "execution_count": null,
   "metadata": {},
   "outputs": [],
   "source": [
    "show_formated_cell(range1)"
   ]
  },
  {
   "cell_type": "markdown",
   "metadata": {},
   "source": [
    "<hr>\n",
    "上記までがsection5です！参考のため、コードを残しておきます！\n",
    "<hr>"
   ]
  },
  {
   "cell_type": "markdown",
   "metadata": {},
   "source": [
    "## Section6"
   ]
  },
  {
   "cell_type": "markdown",
   "metadata": {},
   "source": [
    "### 制限付きで複数のセルを指定する\n",
    "\n",
    "Excelを使っていると、ヘッダーやインデックスを飛ばして、表の中身だけ読み込みたいときがあります。\n",
    "\n",
    "例えば、映画館の来場者数と売り上げを管理するExcelファイルがあったとしましょう。\n",
    "\n",
    "*※以下のコードは実行するだけで大丈夫です。Pandasについては、他の動画で解説していきます。*"
   ]
  },
  {
   "cell_type": "code",
   "execution_count": 3,
   "metadata": {},
   "outputs": [
    {
     "data": {
      "text/html": [
       "<div>\n",
       "<style scoped>\n",
       "    .dataframe tbody tr th:only-of-type {\n",
       "        vertical-align: middle;\n",
       "    }\n",
       "\n",
       "    .dataframe tbody tr th {\n",
       "        vertical-align: top;\n",
       "    }\n",
       "\n",
       "    .dataframe thead th {\n",
       "        text-align: right;\n",
       "    }\n",
       "</style>\n",
       "<table border=\"1\" class=\"dataframe\">\n",
       "  <thead>\n",
       "    <tr style=\"text-align: right;\">\n",
       "      <th></th>\n",
       "      <th>来客者数</th>\n",
       "      <th>売上(万円)</th>\n",
       "    </tr>\n",
       "  </thead>\n",
       "  <tbody>\n",
       "    <tr>\n",
       "      <th>0</th>\n",
       "      <td>200</td>\n",
       "      <td>32</td>\n",
       "    </tr>\n",
       "    <tr>\n",
       "      <th>1</th>\n",
       "      <td>300</td>\n",
       "      <td>34</td>\n",
       "    </tr>\n",
       "    <tr>\n",
       "      <th>2</th>\n",
       "      <td>400</td>\n",
       "      <td>50</td>\n",
       "    </tr>\n",
       "    <tr>\n",
       "      <th>3</th>\n",
       "      <td>200</td>\n",
       "      <td>22</td>\n",
       "    </tr>\n",
       "    <tr>\n",
       "      <th>4</th>\n",
       "      <td>400</td>\n",
       "      <td>30</td>\n",
       "    </tr>\n",
       "  </tbody>\n",
       "</table>\n",
       "</div>"
      ],
      "text/plain": [
       "   来客者数  売上(万円)\n",
       "0   200      32\n",
       "1   300      34\n",
       "2   400      50\n",
       "3   200      22\n",
       "4   400      30"
      ]
     },
     "execution_count": 3,
     "metadata": {},
     "output_type": "execute_result"
    }
   ],
   "source": [
    "import pandas as pd\n",
    "\n",
    "pd.DataFrame({\n",
    "    '来客者数': [200, 300, 400, 200, 400], \n",
    "    '売上(万円)': [32, 34, 50, 22, 30]\n",
    "})"
   ]
  },
  {
   "cell_type": "markdown",
   "metadata": {},
   "source": [
    "この場合だと、一番左の列や、\"来客者数\"とか\"売上\"といった文字を取り除いて、数値の部分だけ読み込みたいってことになりますね。\n",
    "\n",
    "このように、Pythonを使って数値データだけを取得する方法を学習していきます。\n",
    "\n",
    "<br>\n",
    "\n",
    "まずは今までどおり、使用するワークシートを選択することから始めます。(ワークシートを選択しないと、セルの編集ができないからですね...！)"
   ]
  },
  {
   "cell_type": "code",
   "execution_count": 4,
   "metadata": {},
   "outputs": [
    {
     "name": "stdout",
     "output_type": "stream",
     "text": [
      "['Sheet']\n"
     ]
    }
   ],
   "source": [
    "# シート一覧を確認する\n",
    "print(wb.sheetnames)\n",
    "\n",
    "# 編集するシートを選択\n",
    "ws = wb['Sheet']"
   ]
  },
  {
   "cell_type": "markdown",
   "metadata": {},
   "source": [
    "次に、今までどおりに複数のセルを選択するコードを書いてみましょう。\n",
    "\n",
    "今回は、先ほど例に挙げた映画館の売り上げシートに倣って、A1〜C6までを選択するようにしたいと思います。"
   ]
  },
  {
   "cell_type": "code",
   "execution_count": 9,
   "metadata": {},
   "outputs": [],
   "source": [
    "# range1にA1〜C6のセルを指定して格納する\n",
    "range1 = ws['A1':'C6']"
   ]
  },
  {
   "cell_type": "markdown",
   "metadata": {},
   "source": [
    "前回の演習で作成した関数の中に、この`range1`を入れてあげたいと思います。"
   ]
  },
  {
   "cell_type": "code",
   "execution_count": 11,
   "metadata": {},
   "outputs": [],
   "source": [
    "# 関数を使って、いつでも分かりやすい形で閲覧できるようにする\n",
    "def show_formated_cell(range_):\n",
    "    for row in range_:\n",
    "        format_l = []\n",
    "        for cell in row:\n",
    "            format_l.append(cell.coordinate)\n",
    "        print(format_l)"
   ]
  },
  {
   "cell_type": "code",
   "execution_count": 12,
   "metadata": {},
   "outputs": [
    {
     "name": "stdout",
     "output_type": "stream",
     "text": [
      "['A1', 'B1', 'C1']\n",
      "['A2', 'B2', 'C2']\n",
      "['A3', 'B3', 'C3']\n",
      "['A4', 'B4', 'C4']\n",
      "['A5', 'B5', 'C5']\n",
      "['A6', 'B6', 'C6']\n"
     ]
    }
   ],
   "source": [
    "show_formated_cell(range1)"
   ]
  },
  {
   "cell_type": "markdown",
   "metadata": {},
   "source": [
    "関数を作成しておくと、同じコードを書かなくて良いのでラクですね。\n",
    "\n",
    "<br>\n",
    "\n",
    "このとき、ヘッダー部分(=1行目)をスキップして読み込むには、以下のように書いてあげます。"
   ]
  },
  {
   "cell_type": "code",
   "execution_count": 15,
   "metadata": {},
   "outputs": [
    {
     "name": "stdout",
     "output_type": "stream",
     "text": [
      "['A2', 'B2', 'C2']\n",
      "['A3', 'B3', 'C3']\n",
      "['A4', 'B4', 'C4']\n",
      "['A5', 'B5', 'C5']\n",
      "['A6', 'B6', 'C6']\n"
     ]
    }
   ],
   "source": [
    "# ヘッダー(1行目)を飛ばして読み込みする\n",
    "for row in ws.iter_rows(min_row=2):\n",
    "    format_l = []\n",
    "    for cell in row:\n",
    "        format_l.append(cell.coordinate)\n",
    "    print(format_l)"
   ]
  },
  {
   "cell_type": "markdown",
   "metadata": {},
   "source": [
    "上記のように書くと、ヘッダー部分(=1行目)を削除して情報を取得できるようになります。\n",
    "\n",
    "これは`min_row=2`で2行目から選択するように指定しているからです。\n",
    "\n",
    "<br>\n",
    "\n",
    "さらに、行のスキップだけでなく、列のスキップも可能です。"
   ]
  },
  {
   "cell_type": "code",
   "execution_count": 17,
   "metadata": {},
   "outputs": [
    {
     "name": "stdout",
     "output_type": "stream",
     "text": [
      "['B2', 'C2']\n",
      "['B3', 'C3']\n",
      "['B4', 'C4']\n",
      "['B5', 'C5']\n",
      "['B6', 'C6']\n"
     ]
    }
   ],
   "source": [
    "# ヘッダー(1行目)とインデックス(1列目)を飛ばして読み込む場合\n",
    "for row in ws.iter_rows(min_row=2, min_col=2):\n",
    "    format_l = []\n",
    "    for cell in row:\n",
    "        format_l.append(cell.coordinate)\n",
    "    print(format_l)"
   ]
  },
  {
   "cell_type": "markdown",
   "metadata": {},
   "source": [
    "上記のように書いてあげると、映画館の表から数値の部分だけ取り出せるようになりますね。"
   ]
  },
  {
   "cell_type": "code",
   "execution_count": 20,
   "metadata": {},
   "outputs": [
    {
     "data": {
      "text/html": [
       "<div>\n",
       "<style scoped>\n",
       "    .dataframe tbody tr th:only-of-type {\n",
       "        vertical-align: middle;\n",
       "    }\n",
       "\n",
       "    .dataframe tbody tr th {\n",
       "        vertical-align: top;\n",
       "    }\n",
       "\n",
       "    .dataframe thead th {\n",
       "        text-align: right;\n",
       "    }\n",
       "</style>\n",
       "<table border=\"1\" class=\"dataframe\">\n",
       "  <thead>\n",
       "    <tr style=\"text-align: right;\">\n",
       "      <th></th>\n",
       "      <th>来客者数</th>\n",
       "      <th>売上(万円)</th>\n",
       "    </tr>\n",
       "  </thead>\n",
       "  <tbody>\n",
       "    <tr>\n",
       "      <th>0</th>\n",
       "      <td>200</td>\n",
       "      <td>32</td>\n",
       "    </tr>\n",
       "    <tr>\n",
       "      <th>1</th>\n",
       "      <td>300</td>\n",
       "      <td>34</td>\n",
       "    </tr>\n",
       "    <tr>\n",
       "      <th>2</th>\n",
       "      <td>400</td>\n",
       "      <td>50</td>\n",
       "    </tr>\n",
       "    <tr>\n",
       "      <th>3</th>\n",
       "      <td>200</td>\n",
       "      <td>22</td>\n",
       "    </tr>\n",
       "    <tr>\n",
       "      <th>4</th>\n",
       "      <td>400</td>\n",
       "      <td>30</td>\n",
       "    </tr>\n",
       "  </tbody>\n",
       "</table>\n",
       "</div>"
      ],
      "text/plain": [
       "   来客者数  売上(万円)\n",
       "0   200      32\n",
       "1   300      34\n",
       "2   400      50\n",
       "3   200      22\n",
       "4   400      30"
      ]
     },
     "execution_count": 20,
     "metadata": {},
     "output_type": "execute_result"
    }
   ],
   "source": [
    "pd.DataFrame({\n",
    "    '来客者数': [200, 300, 400, 200, 400], \n",
    "    '売上(万円)': [32, 34, 50, 22, 30]\n",
    "})"
   ]
  },
  {
   "cell_type": "markdown",
   "metadata": {},
   "source": [
    "### 演習B\n",
    "\n",
    "自分で指定した(行, 列)番号から読み込みできるような関数を作成しましょう。\n",
    "\n",
    "*※前の演習で取り組んだ内容と、ほぼ同じ実装です。でも、こちらの関数の方が柔軟性が高くなり、使いやすくなるので重要な内容になります。*"
   ]
  },
  {
   "cell_type": "code",
   "execution_count": 21,
   "metadata": {},
   "outputs": [],
   "source": [
    "# 関数を使って、いつでも分かりやすい形で閲覧できるようにする\n",
    "def show_formated_cell(ws, min_row=1, min_col=1):\n",
    "    for row in ws.iter_rows(min_row=min_row, min_col=min_col):\n",
    "        format_l = []\n",
    "        for cell in row:\n",
    "            format_l.append(cell.coordinate)\n",
    "        print(format_l)"
   ]
  },
  {
   "cell_type": "code",
   "execution_count": 25,
   "metadata": {},
   "outputs": [
    {
     "name": "stdout",
     "output_type": "stream",
     "text": [
      "['B2', 'C2']\n",
      "['B3', 'C3']\n",
      "['B4', 'C4']\n",
      "['B5', 'C5']\n",
      "['B6', 'C6']\n"
     ]
    }
   ],
   "source": [
    "# 何も指定しなければ、普通に読み込める\n",
    "# show_formated_cell(ws)\n",
    "\n",
    "# (2, 2にすれば、ヘッダーとインデックスを飛ばして読み込みできる)\n",
    "show_formated_cell(ws, 2, 2)"
   ]
  },
  {
   "cell_type": "markdown",
   "metadata": {},
   "source": [
    "### 行単位でセルを指定する\n",
    "\n",
    "行単位でセルを指定するには、以下のように書いてあげます。"
   ]
  },
  {
   "cell_type": "code",
   "execution_count": 26,
   "metadata": {},
   "outputs": [],
   "source": [
    "# 1行目を取得する(0ではなく、1からスタート)\n",
    "row1 = ws[1]"
   ]
  },
  {
   "cell_type": "markdown",
   "metadata": {},
   "source": [
    "少し紛らわしいですが、行を選択するには0からではなく1からスタートです。\n",
    "\n",
    "実際に中身を見てみましょう。"
   ]
  },
  {
   "cell_type": "code",
   "execution_count": 27,
   "metadata": {},
   "outputs": [
    {
     "data": {
      "text/plain": [
       "(<Cell 'Sheet'.A1>, <Cell 'Sheet'.B1>, <Cell 'Sheet'.C1>)"
      ]
     },
     "execution_count": 27,
     "metadata": {},
     "output_type": "execute_result"
    }
   ],
   "source": [
    "row1"
   ]
  },
  {
   "cell_type": "markdown",
   "metadata": {},
   "source": [
    "すると、上記のようになります。\n",
    "\n",
    "よく見ると、こちらのタプルの形になっていますので、以下のように書いてあげるとA1だけ取得できるようになります。"
   ]
  },
  {
   "cell_type": "code",
   "execution_count": 28,
   "metadata": {},
   "outputs": [
    {
     "data": {
      "text/plain": [
       "<Cell 'Sheet'.A1>"
      ]
     },
     "execution_count": 28,
     "metadata": {},
     "output_type": "execute_result"
    }
   ],
   "source": [
    "row1[0]"
   ]
  },
  {
   "cell_type": "markdown",
   "metadata": {},
   "source": [
    "上記のとおりです。\n",
    "\n",
    "行単位でデータを追加したいときには、こちらを使うのが良いですね。"
   ]
  },
  {
   "cell_type": "markdown",
   "metadata": {},
   "source": [
    "## セルの場所を確認する\n",
    "\n",
    "セルに付属しているメソッドを使うことで、いま選択しているセルを確認できます。\n",
    "\n",
    "まずは、セルを準備してあげましょう。"
   ]
  },
  {
   "cell_type": "code",
   "execution_count": 29,
   "metadata": {},
   "outputs": [
    {
     "data": {
      "text/plain": [
       "<Cell 'Sheet'.A1>"
      ]
     },
     "execution_count": 29,
     "metadata": {},
     "output_type": "execute_result"
    }
   ],
   "source": [
    "# (1, 1)要素を格納\n",
    "cell1 = ws.cell(row=1, column=1)\n",
    "cell1"
   ]
  },
  {
   "cell_type": "markdown",
   "metadata": {},
   "source": [
    "このセルに対して、以下のようなメソッドを使ってあげると、目的に応じたセルの場所を確認できます。"
   ]
  },
  {
   "cell_type": "code",
   "execution_count": 30,
   "metadata": {},
   "outputs": [
    {
     "name": "stdout",
     "output_type": "stream",
     "text": [
      "coordinate:  A1\n",
      "row number:  1\n",
      "column number:  1\n",
      "alphabet:  A\n"
     ]
    }
   ],
   "source": [
    "# アドレスを確認する\n",
    "print('coordinate: ', cell1.coordinate)\n",
    "\n",
    "# 行番号を確認する\n",
    "print('row number: ', cell1.row)\n",
    "\n",
    "# 列番号を確認する\n",
    "print('column number: ', cell1.column)\n",
    "\n",
    "# 列のアルファベット部分を取得する\n",
    "print('alphabet: ', cell1.column_letter)"
   ]
  },
  {
   "cell_type": "markdown",
   "metadata": {},
   "source": [
    "上記のように、セルの確認方法は多種多様です。\n",
    "\n",
    "目的に応じて使い分けましょう。\n",
    "\n",
    "<br>\n",
    "\n",
    "ここまでで、セルの指定方法は以上になります。\n",
    "\n",
    "次回は、Excel自動操作の醍醐味とも言える以下のことを紹介していきます。\n",
    "\n",
    "- セルに数値を書き込む\n",
    "- Excelの数式をPythonで扱う\n",
    "- セルの書式設定をPythonで変更する\n",
    "- 文字を書いた場合には、フォントの書式を変更する\n",
    "\n",
    "ここまでできるようになると、あとは今までの組み合わせで簡単にExcelを操作できるようになります。\n",
    "\n",
    "最後まで頑張っていきましょう！"
   ]
  },
  {
   "cell_type": "code",
   "execution_count": null,
   "metadata": {},
   "outputs": [],
   "source": []
  }
 ],
 "metadata": {
  "kernelspec": {
   "display_name": "Python 3",
   "language": "python",
   "name": "python3"
  },
  "language_info": {
   "codemirror_mode": {
    "name": "ipython",
    "version": 3
   },
   "file_extension": ".py",
   "mimetype": "text/x-python",
   "name": "python",
   "nbconvert_exporter": "python",
   "pygments_lexer": "ipython3",
   "version": "3.7.7"
  },
  "toc": {
   "base_numbering": 1,
   "nav_menu": {
    "height": "12px",
    "width": "160px"
   },
   "number_sections": true,
   "sideBar": true,
   "skip_h1_title": false,
   "title_cell": "Table of Contents",
   "title_sidebar": "Contents",
   "toc_cell": false,
   "toc_position": {
    "height": "calc(100% - 180px)",
    "left": "10px",
    "top": "150px",
    "width": "225px"
   },
   "toc_section_display": true,
   "toc_window_display": true
  }
 },
 "nbformat": 4,
 "nbformat_minor": 4
}
