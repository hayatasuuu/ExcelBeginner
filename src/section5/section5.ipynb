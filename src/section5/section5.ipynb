{
 "cells": [
  {
   "cell_type": "markdown",
   "metadata": {},
   "source": [
    "# 必要なライブラリのインポート\n",
    "\n",
    "今回のレクチャーでも、前回同様に`openpyxl`をインポートしていきましょう。"
   ]
  },
  {
   "cell_type": "code",
   "execution_count": null,
   "metadata": {},
   "outputs": [],
   "source": []
  },
  {
   "cell_type": "markdown",
   "metadata": {},
   "source": [
    "また、今回使うためのExcelシートを先に作成しておきましょう。"
   ]
  },
  {
   "cell_type": "code",
   "execution_count": null,
   "metadata": {},
   "outputs": [],
   "source": []
  },
  {
   "cell_type": "markdown",
   "metadata": {},
   "source": [
    "このtest.xlsxを使って、今回もPython×Excel超入門を始めていきたいと思います。"
   ]
  },
  {
   "cell_type": "markdown",
   "metadata": {},
   "source": [
    "# STEP3 : セルの取り扱い\n",
    "\n",
    "Excel操作を分解すると、以下のようになります。\n",
    "\n",
    "- ファイルの操作\n",
    "- シートの操作\n",
    "- セルの操作\n",
    "\n",
    "前回までのレクチャーで、ファイルの操作とシートの操作をおこなってきたので、今回はセルの操作をおこなっていきたいと思います。\n",
    "\n",
    "Excelの醍醐味とも言える部分。頑張っていきましょう！"
   ]
  },
  {
   "cell_type": "markdown",
   "metadata": {},
   "source": [
    "## セルを指定する\n",
    "\n",
    "セルを操作するには、先にExcelシートを選ぶ必要があります。シート一覧を確認してみましょう。"
   ]
  },
  {
   "cell_type": "code",
   "execution_count": 3,
   "metadata": {},
   "outputs": [],
   "source": [
    "# シート一覧を確認する\n"
   ]
  },
  {
   "cell_type": "markdown",
   "metadata": {},
   "source": [
    "シート名一覧を確認すると、`Sheet`の一枚になっているかと思います。\n",
    "\n",
    "普通にExcelファイルを新規作成すると`Sheet1`ですが、PythonでExcelシートを作成する場合、必ず`Sheet`という名前になっていましたね。\n",
    "\n",
    "<br>\n",
    "\n",
    "ここまで確認できたら、実際に編集していくシートを選択していきましょう。"
   ]
  },
  {
   "cell_type": "code",
   "execution_count": 5,
   "metadata": {},
   "outputs": [],
   "source": [
    "# 編集するシートを選択\n"
   ]
  },
  {
   "cell_type": "markdown",
   "metadata": {},
   "source": [
    "以下のように書くと、選択したシートも確認できます。"
   ]
  },
  {
   "cell_type": "code",
   "execution_count": 6,
   "metadata": {},
   "outputs": [],
   "source": [
    "# シートのタイトルを取得する\n"
   ]
  },
  {
   "cell_type": "markdown",
   "metadata": {},
   "source": [
    "### 1つのセルを指定する\n",
    "\n",
    "Excelシートの操作と同様に、セルを編集するためには、「**セルを選択すること**」から始める必要があります。\n",
    "\n",
    "なのでまずは、Excelシート内に入っている1つのシートを選択してみましょう。\n",
    "\n",
    "Excelシートに含まれているシートを選択する方法は、複数あります。"
   ]
  },
  {
   "cell_type": "code",
   "execution_count": 7,
   "metadata": {},
   "outputs": [],
   "source": [
    "# (1, 1)のセルを取得する\n"
   ]
  },
  {
   "cell_type": "code",
   "execution_count": 8,
   "metadata": {},
   "outputs": [],
   "source": [
    "# 番号指定\n"
   ]
  },
  {
   "cell_type": "code",
   "execution_count": 9,
   "metadata": {},
   "outputs": [],
   "source": [
    "# row, columnsは省略可能\n"
   ]
  },
  {
   "cell_type": "markdown",
   "metadata": {},
   "source": [
    "上記のとおりです。\n",
    "\n",
    "このようにセルを選択してあげると、後からセルの値を参照したり、セルの値を変更したりできます。\n",
    "\n",
    "<br>\n",
    "\n",
    "実際に、すべての結果が一致しているのか確認してみましょう。"
   ]
  },
  {
   "cell_type": "code",
   "execution_count": 10,
   "metadata": {},
   "outputs": [],
   "source": [
    "# すべてのセルが一致しているか確認する\n"
   ]
  },
  {
   "cell_type": "markdown",
   "metadata": {},
   "source": [
    "こちらのように、すべて結果が一致していますね。\n",
    "\n",
    "1つのセルを指定する方法は、全部で3つということになります。\n",
    "\n",
    "\n",
    "```\n",
    "1.  セルのアドレスを指定する : ws['A1']\n",
    "2.  セルの番号を指定する : ws.cell(row=1, column=1)\n",
    "3.  セルの番号を指定する : ws.cell(1, 1)\n",
    "```\n",
    "\n",
    "以上です。\n",
    "\n",
    "2と3に関しては、実質的に同じ方法になります。\n",
    "\n",
    "ただ省略すると分かりづらい部分が出てきますので、慣れるまではrowとcolumnを書いてあげることをおすすめします。"
   ]
  },
  {
   "cell_type": "markdown",
   "metadata": {},
   "source": [
    "### 複数のセルを指定する\n",
    "\n",
    "1つのセルだけでなく、複数のセルを指定する方法も見ていきましょう。\n"
   ]
  },
  {
   "cell_type": "code",
   "execution_count": 11,
   "metadata": {},
   "outputs": [],
   "source": [
    "# A1〜B3を選択\n",
    "\n",
    "\n",
    "# 以下のように書いてもOK!\n",
    "\n",
    "\n",
    "# 同じ結果になっているか確認\n"
   ]
  },
  {
   "cell_type": "markdown",
   "metadata": {},
   "source": [
    "複数のセルを選択するには、上記のように書きます。\n",
    "\n",
    "1つのクオーテーションにまとめてしまっても良いですし、別々で書いても大丈夫です。\n",
    "\n",
    "<br>\n",
    "\n",
    "Pythonからプログラミングを始めた方であれば、range2で書いた方が分かりやすいかもしれないですね。\n",
    "\n",
    "<br>\n",
    "\n",
    "それでは、実際に選択したセルを見てみます。"
   ]
  },
  {
   "cell_type": "code",
   "execution_count": 12,
   "metadata": {},
   "outputs": [],
   "source": [
    "# 中身を確認\n"
   ]
  },
  {
   "cell_type": "markdown",
   "metadata": {},
   "source": [
    "こちらのように、A1〜B3を選択できていますね。\n",
    "\n",
    "そして、中身をよく見てみると、`()`で格納されています。\n",
    "\n",
    "要するに、これは\"タプルの形になっている\"ということです。\n",
    "\n",
    "<br>\n",
    "\n",
    "なので、以下のように書いてあげると、行を選択できるようになりますね。\n",
    "\n"
   ]
  },
  {
   "cell_type": "code",
   "execution_count": 13,
   "metadata": {},
   "outputs": [],
   "source": [
    "# インデックス指定で、1行目を取得する\n"
   ]
  },
  {
   "cell_type": "markdown",
   "metadata": {},
   "source": [
    "また、タプルになっているということは、for文を使って取り出せますので、以下のように取得したセルを確認できます。"
   ]
  },
  {
   "cell_type": "code",
   "execution_count": 14,
   "metadata": {},
   "outputs": [],
   "source": [
    "# for文を使って、取得したセルを確認する\n",
    "\n"
   ]
  },
  {
   "cell_type": "markdown",
   "metadata": {},
   "source": [
    "上記のとおりです。\n",
    "\n",
    "少しコードを書き加えて、もう少し見やすい形で出力してあげましょう。"
   ]
  },
  {
   "cell_type": "code",
   "execution_count": 15,
   "metadata": {},
   "outputs": [],
   "source": [
    "# リストを使うことで分かりやすい形にする\n",
    "\n"
   ]
  },
  {
   "cell_type": "markdown",
   "metadata": {},
   "source": [
    "こうすると、Excelのセルと同じ形式でみることができますね。"
   ]
  },
  {
   "cell_type": "markdown",
   "metadata": {},
   "source": [
    "### 演習A\n",
    "\n",
    "先ほど作成した、選択したシートを見やすくするコードを関数化しておきましょう。\n",
    "\n",
    "*※関数化する目的は、いつでも分かりやすい形で閲覧できるようにするためです。*"
   ]
  },
  {
   "cell_type": "code",
   "execution_count": 16,
   "metadata": {},
   "outputs": [],
   "source": [
    "# 関数を使って、いつでも分かりやすい形で閲覧できるようにする\n"
   ]
  },
  {
   "cell_type": "code",
   "execution_count": null,
   "metadata": {},
   "outputs": [],
   "source": []
  }
 ],
 "metadata": {
  "kernelspec": {
   "display_name": "Python 3",
   "language": "python",
   "name": "python3"
  },
  "language_info": {
   "codemirror_mode": {
    "name": "ipython",
    "version": 3
   },
   "file_extension": ".py",
   "mimetype": "text/x-python",
   "name": "python",
   "nbconvert_exporter": "python",
   "pygments_lexer": "ipython3",
   "version": "3.7.7"
  },
  "toc": {
   "base_numbering": 1,
   "nav_menu": {
    "height": "12px",
    "width": "160px"
   },
   "number_sections": true,
   "sideBar": true,
   "skip_h1_title": false,
   "title_cell": "Table of Contents",
   "title_sidebar": "Contents",
   "toc_cell": false,
   "toc_position": {
    "height": "calc(100% - 180px)",
    "left": "10px",
    "top": "150px",
    "width": "225px"
   },
   "toc_section_display": true,
   "toc_window_display": true
  }
 },
 "nbformat": 4,
 "nbformat_minor": 4
}
