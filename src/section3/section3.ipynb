{
 "cells": [
  {
   "cell_type": "markdown",
   "metadata": {},
   "source": [
    "# 必要なライブラリのインポート\n",
    "\n",
    "あらかじめインストールしておいた`openpyxl`をインポートしましょう。念のため、バージョンも確認しておきます。"
   ]
  },
  {
   "cell_type": "code",
   "execution_count": null,
   "metadata": {},
   "outputs": [],
   "source": []
  },
  {
   "cell_type": "markdown",
   "metadata": {},
   "source": [
    "もしこの段階で、バージョンが3.x系になっていたら、あとで実行するコードに不具合が生じる可能性があります。\n",
    "\n",
    "そのため、`oprnpyxl`のバージョンを下げておきましょう。"
   ]
  },
  {
   "cell_type": "code",
   "execution_count": null,
   "metadata": {},
   "outputs": [],
   "source": []
  },
  {
   "cell_type": "markdown",
   "metadata": {},
   "source": [
    "これは、「**`openpyxl`をバージョン2.6.2でインストールしなおす**」という意味です。\n",
    "\n",
    "\n",
    "どうやら3.x系はバグが発生することがあるようなので、今回はバージョンを落として学習を進めていこうと思います。\n",
    "\n",
    "Anacondaでは、`pip`を使うこともできますが、こちらの`conda`コマンドを使うことでライブラリのインストールが可能です。\n",
    "\n",
    "ライブラリをインストールするときは、可能な限り`conda`コマンドを使ってあげるようにしましょう。\n",
    "\n"
   ]
  },
  {
   "cell_type": "markdown",
   "metadata": {},
   "source": [
    "# STEP1 : ファイルの取り扱い\n",
    "\n",
    "まずは、Pythonを使ってExcelファイルを操作してみましょう。\n",
    "\n",
    "この章を学習するだけでも、Excelファイルを高速で100枚作成できるようになり、できることがかなり増えますよ。"
   ]
  },
  {
   "cell_type": "markdown",
   "metadata": {},
   "source": [
    "## ファイルの作成\n",
    "\n",
    "ファイルを作成するには、以下のようなコードを書きます。"
   ]
  },
  {
   "cell_type": "code",
   "execution_count": null,
   "metadata": {},
   "outputs": [],
   "source": [
    "# test.xlsxというファイル名のExcelファイルを作成する\n"
   ]
  },
  {
   "cell_type": "markdown",
   "metadata": {},
   "source": [
    "たったのこれだけで、\"Sheet\"という名前のシートが入ったExcelファイルを作成できます。\n",
    "\n",
    "<br>\n",
    "\n",
    "想像しているより簡単にできますよね。\n",
    "\n",
    "これを応用して、Excelファイルを一気に10枚作成してみようと思います。"
   ]
  },
  {
   "cell_type": "code",
   "execution_count": null,
   "metadata": {},
   "outputs": [],
   "source": [
    "# Excelファイルを10枚作成する\n"
   ]
  },
  {
   "cell_type": "markdown",
   "metadata": {},
   "source": [
    "実際にフォルダを確認してみると、Excelファイルが10枚、作成できていますね。\n",
    "\n",
    "ちなみに、Pythonのコードでファイル一覧を確認するには、以下のように記述します。"
   ]
  },
  {
   "cell_type": "code",
   "execution_count": null,
   "metadata": {},
   "outputs": [],
   "source": [
    "# ファイル一覧を取得する\n"
   ]
  },
  {
   "cell_type": "markdown",
   "metadata": {},
   "source": [
    "for文を使ってもう少し、見やすくしてみましょう。"
   ]
  },
  {
   "cell_type": "code",
   "execution_count": null,
   "metadata": {},
   "outputs": [],
   "source": [
    "# for文を使って、ファイル一覧を分かりやすくする\n"
   ]
  },
  {
   "cell_type": "markdown",
   "metadata": {},
   "source": [
    "このように、Excelファイルが10枚作成できていることが分かりますね。"
   ]
  },
  {
   "cell_type": "markdown",
   "metadata": {},
   "source": [
    "## ファイルの読み込み\n",
    "\n",
    "作成したExcelファイルを読み込むには、以下のようにコードを書きます。"
   ]
  },
  {
   "cell_type": "code",
   "execution_count": null,
   "metadata": {},
   "outputs": [],
   "source": [
    "# test.xlsxを読み込む\n"
   ]
  },
  {
   "cell_type": "markdown",
   "metadata": {},
   "source": [
    "この1行だけで、Excelファイルの読み込みが完了です。実際に、読み込めているのか確認するために、Excelファイルに入っているシート名を見てみましょう。"
   ]
  },
  {
   "cell_type": "code",
   "execution_count": null,
   "metadata": {},
   "outputs": [],
   "source": [
    "# test.xlsxに入っているシート名を確認する\n"
   ]
  },
  {
   "cell_type": "markdown",
   "metadata": {},
   "source": [
    "こちらのように、\"Sheet\"というシートを持ったExcelファイルを読み込めていますね。"
   ]
  },
  {
   "cell_type": "markdown",
   "metadata": {},
   "source": [
    "## ファイルの保存\n",
    "\n",
    "いま読み込んでいるExcelファイルを保存するには、以下のように書きます。"
   ]
  },
  {
   "cell_type": "code",
   "execution_count": null,
   "metadata": {},
   "outputs": [],
   "source": [
    "# \"test2.xlsx\"という名前でファイルを保存する\n"
   ]
  },
  {
   "cell_type": "markdown",
   "metadata": {},
   "source": [
    "ファイルの作成で書いていた、最後の部分ですね。ファイルの保存も、簡単にできてしまいました。\n",
    "\n",
    "Pythonで変更を加えたあとは、この`wb.save()`をするまでExcelファイルに上書きされません。\n",
    "\n",
    "言い方を換えると、`wb.save()`しなければ編集した内容が消えてしまいますので、その点は注意しておきましょう。"
   ]
  },
  {
   "cell_type": "code",
   "execution_count": null,
   "metadata": {},
   "outputs": [],
   "source": []
  }
 ],
 "metadata": {
  "kernelspec": {
   "display_name": "Python 3",
   "language": "python",
   "name": "python3"
  },
  "language_info": {
   "codemirror_mode": {
    "name": "ipython",
    "version": 3
   },
   "file_extension": ".py",
   "mimetype": "text/x-python",
   "name": "python",
   "nbconvert_exporter": "python",
   "pygments_lexer": "ipython3",
   "version": "3.7.3"
  },
  "toc": {
   "base_numbering": 1,
   "nav_menu": {},
   "number_sections": true,
   "sideBar": true,
   "skip_h1_title": false,
   "title_cell": "Table of Contents",
   "title_sidebar": "Contents",
   "toc_cell": false,
   "toc_position": {},
   "toc_section_display": true,
   "toc_window_display": true
  }
 },
 "nbformat": 4,
 "nbformat_minor": 2
}
