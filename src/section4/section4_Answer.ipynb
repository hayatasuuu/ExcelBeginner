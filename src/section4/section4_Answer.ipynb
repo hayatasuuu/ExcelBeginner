{
 "cells": [
  {
   "cell_type": "markdown",
   "metadata": {},
   "source": [
    "# 必要なライブラリのインポート\n",
    "\n",
    "今回のレクチャーでも、前回同様に`openpyxl`をインポートしていきましょう。"
   ]
  },
  {
   "cell_type": "code",
   "execution_count": null,
   "metadata": {},
   "outputs": [],
   "source": [
    "import openpyxl"
   ]
  },
  {
   "cell_type": "markdown",
   "metadata": {},
   "source": [
    "# STEP2 : シートの取り扱い\n",
    "\n",
    "Excelファイルの取り扱いに慣れてきたところで、今回はファイル内のシートを扱っていきたいと思います。\n",
    "\n",
    "まずは復習がてら、Pythonを使ってExcelファイルの作成をしていきましょう。"
   ]
  },
  {
   "cell_type": "code",
   "execution_count": null,
   "metadata": {},
   "outputs": [],
   "source": [
    "# test.xlsxというファイル名のExcelファイルを作成する\n",
    "wb = openpyxl.Workbook()\n",
    "wb.active\n",
    "wb.save('test.xlsx')"
   ]
  },
  {
   "cell_type": "markdown",
   "metadata": {},
   "source": [
    "上記のように書けば、Excelファイルの作成ができましたね。\n",
    "\n",
    "このシートを使って、ファイル内に入っているシートの操作をおこなっていきたいと思います。"
   ]
  },
  {
   "cell_type": "markdown",
   "metadata": {},
   "source": [
    "## シート名一覧を確認する\n",
    "\n",
    "該当するExcelファイルに、どんなシートが入っているか確認するには、以下のように書きます。"
   ]
  },
  {
   "cell_type": "code",
   "execution_count": null,
   "metadata": {},
   "outputs": [],
   "source": [
    "# シート名の確認\n",
    "print(wb.sheetnames)"
   ]
  },
  {
   "cell_type": "markdown",
   "metadata": {},
   "source": [
    "for文を活用してあげれば、もっと観やすい形にできますね。"
   ]
  },
  {
   "cell_type": "code",
   "execution_count": null,
   "metadata": {},
   "outputs": [],
   "source": [
    "for sheet_name in wb.sheetnames:\n",
    "    print(sheet_name)"
   ]
  },
  {
   "cell_type": "markdown",
   "metadata": {},
   "source": [
    "いまは1つしかシートがありませんが、今後追加していくと中身が増えていきます。\n",
    "\n",
    "ちなみに、`sheetnames`を使わなくても、以下のように書くこともできます。"
   ]
  },
  {
   "cell_type": "code",
   "execution_count": null,
   "metadata": {},
   "outputs": [],
   "source": [
    "# for文でシート名を確認する\n",
    "for sheet in wb:\n",
    "    print(sheet.title)"
   ]
  },
  {
   "cell_type": "markdown",
   "metadata": {},
   "source": [
    "ここら辺は、自分が好きな方を使うので大丈夫です。"
   ]
  },
  {
   "cell_type": "markdown",
   "metadata": {},
   "source": [
    "## シートを選択する\n",
    "\n",
    "Pythonでシートやシート内のセルを編集するには、「編集したいシートを選ぶ」必要があります。\n",
    "\n",
    "さっそく編集するシートを選んでいきましょう。"
   ]
  },
  {
   "cell_type": "code",
   "execution_count": null,
   "metadata": {},
   "outputs": [],
   "source": [
    "# \"Sheet\"という名前のシートを選択\n",
    "ws = wb['Sheet']\n",
    "print(ws)"
   ]
  },
  {
   "cell_type": "markdown",
   "metadata": {},
   "source": [
    "上記のように書くと、シート名を選択できるようになります。\n",
    "\n",
    "以下のようにインデックス番号で、シート名を選択することも可能です。"
   ]
  },
  {
   "cell_type": "code",
   "execution_count": null,
   "metadata": {},
   "outputs": [],
   "source": [
    "# インデックス番号を指定して、シートを選択\n",
    "ws2 = wb.worksheets[0]\n",
    "print(ws2)"
   ]
  },
  {
   "cell_type": "markdown",
   "metadata": {},
   "source": [
    "実際に、中身が同じになることを確認しましょう。"
   ]
  },
  {
   "cell_type": "code",
   "execution_count": null,
   "metadata": {},
   "outputs": [],
   "source": [
    "# 中身が同じになるか確認する\n",
    "print(ws == ws2)"
   ]
  },
  {
   "cell_type": "markdown",
   "metadata": {},
   "source": [
    "上記のように、判定結果が`True`になりました。\n",
    "\n",
    "シート名で指定しても、インデックスで指定しても、同じ結果になることが分かりますね。"
   ]
  },
  {
   "cell_type": "markdown",
   "metadata": {},
   "source": [
    "## 選択したシート名の確認・変更\n",
    "\n",
    "いま選択しているシート名を確認するには、`ws.title`と書いてあげます。"
   ]
  },
  {
   "cell_type": "code",
   "execution_count": null,
   "metadata": {},
   "outputs": [],
   "source": [
    "# シートを選択\n",
    "ws = wb['Sheet']\n",
    "\n",
    "# シート名の確認\n",
    "print(ws.title)"
   ]
  },
  {
   "cell_type": "markdown",
   "metadata": {},
   "source": [
    "さらに、シート名を変更するときも、`ws.title`を使って以下のように書きます。"
   ]
  },
  {
   "cell_type": "code",
   "execution_count": null,
   "metadata": {},
   "outputs": [],
   "source": [
    "# シート名の変更\n",
    "ws.title = 'test1'\n",
    "\n",
    "# シート名を確認\n",
    "print(ws.title)"
   ]
  },
  {
   "cell_type": "markdown",
   "metadata": {},
   "source": [
    "シート名一覧を確認して、しっかり変更できていることを確認してあげましょう。"
   ]
  },
  {
   "cell_type": "code",
   "execution_count": null,
   "metadata": {},
   "outputs": [],
   "source": [
    "# シート一覧で確認する\n",
    "print(wb.sheetnames)"
   ]
  },
  {
   "cell_type": "markdown",
   "metadata": {},
   "source": [
    "もともとのシート名は`Sheet`でしたが、今回確認した内容は`test1`になっています。\n",
    "\n",
    "これは、シート名の変更に成功したということです。"
   ]
  },
  {
   "cell_type": "markdown",
   "metadata": {},
   "source": [
    "## シートを追加する\n",
    "\n",
    "いまはExcelファイル内にシートが1枚しかありません。\n",
    "\n",
    "でも、Excelを操作していくとなると、もっとシートを追加したくなるかと思います。\n",
    "\n",
    "そんなときには、`wb.create_sheet()`を使ってシートの作成が可能です。"
   ]
  },
  {
   "cell_type": "code",
   "execution_count": null,
   "metadata": {},
   "outputs": [],
   "source": [
    "# created1という名前のシートを追加する\n",
    "wb.create_sheet(title='created1')\n",
    "\n",
    "# シート一覧を確認する\n",
    "print(wb.sheetnames)"
   ]
  },
  {
   "cell_type": "markdown",
   "metadata": {},
   "source": [
    "このように、シート名一覧を確認してみると、`created1`というシートが作成できています。\n",
    "\n",
    "さらにシートを追加してみましょう。"
   ]
  },
  {
   "cell_type": "code",
   "execution_count": null,
   "metadata": {},
   "outputs": [],
   "source": [
    "# created2という名前のシートを追加する\n",
    "wb.create_sheet(title='created2')\n",
    "\n",
    "# シート一覧を確認する\n",
    "print(wb.sheetnames)"
   ]
  },
  {
   "cell_type": "markdown",
   "metadata": {},
   "source": [
    "一気にExcelシートを3枚に変更できました。\n",
    "\n",
    "ちなみに、このセクションの最初でも紹介したように、for文を使ってあげることで中身を確認することも可能です。"
   ]
  },
  {
   "cell_type": "code",
   "execution_count": null,
   "metadata": {},
   "outputs": [],
   "source": [
    "# for文でも確認してみる\n",
    "for sheet in wb:\n",
    "    print(sheet.title)"
   ]
  },
  {
   "cell_type": "markdown",
   "metadata": {},
   "source": [
    "こちらのとおりですね。しっかりとシートの追加をおこなえています。\n",
    "\n",
    "<br>\n",
    "\n",
    "ただ、今のままだとシートの追加は、すべて末尾になってしまっています。\n",
    "\n",
    "場所を指定してシート追加するには、`index`を指定して`create_sheet`してあげます。"
   ]
  },
  {
   "cell_type": "code",
   "execution_count": null,
   "metadata": {},
   "outputs": [],
   "source": [
    "# 末尾ではなく、2番目に追加する\n",
    "wb.create_sheet(title='created3', index=1)\n",
    "\n",
    "# シート一覧を確認する\n",
    "print(wb.sheetnames)"
   ]
  },
  {
   "cell_type": "markdown",
   "metadata": {},
   "source": [
    "はい、こちらのとおりです。\n",
    "\n",
    "場所を指定してシートを作成するときは、Pythonの文法に従って、インデックスの位置(2番目であれば、index=1)を指定すればOKです。"
   ]
  },
  {
   "cell_type": "markdown",
   "metadata": {},
   "source": [
    "## シートのタブ色を変更する\n",
    "\n",
    "さらにPythonでは、`sheet_properties.tabColor`を使えば、シートのタブの色も変更できます。"
   ]
  },
  {
   "cell_type": "code",
   "execution_count": null,
   "metadata": {},
   "outputs": [],
   "source": [
    "# 現状を把握\n",
    "print('シート名一覧 : ', wb.sheetnames)\n",
    "print('現在のシート名 : ', ws.title)\n",
    "\n",
    "# シートのタブの色を、黒に変更する\n",
    "ws.sheet_properties.tabColor = \"000000\""
   ]
  },
  {
   "cell_type": "markdown",
   "metadata": {},
   "source": [
    "実際にタブの色を変更できているか、確認してみたいと思います。ここまでの変更を、一旦保存してあげましょう。\n",
    "\n",
    "以下のコードを実行すれば、Excelファイルの保存できます。"
   ]
  },
  {
   "cell_type": "code",
   "execution_count": null,
   "metadata": {},
   "outputs": [],
   "source": [
    "# test.xlsxを保存する\n",
    "wb.save('test.xlsx')"
   ]
  },
  {
   "cell_type": "markdown",
   "metadata": {},
   "source": [
    "実際に、ファイルを確認してみると、test1のタブだけ色が黒くなっていますね。\n",
    "\n",
    "ちなみに、色を指定するときに使った\"000000\"は、16進数の色指定方法です。\n",
    "\n",
    "これは、Google検索で、「16進数 色」とかで検索すると、自分の好きな色のコードを確認できます。"
   ]
  },
  {
   "cell_type": "markdown",
   "metadata": {},
   "source": [
    "## シートをコピーする\n",
    "\n",
    "「作成したシートを、コピーしたい」といった場合もあるかと思います。\n",
    "\n",
    "そんなときには、`copy_worksheet`を使ってあげます。"
   ]
  },
  {
   "cell_type": "code",
   "execution_count": null,
   "metadata": {},
   "outputs": [],
   "source": [
    "# test1というシートをコピーする\n",
    "wb.copy_worksheet(wb[\"test1\"])\n",
    "\n",
    "# シート一覧を確認する\n",
    "print(wb.sheetnames)"
   ]
  },
  {
   "cell_type": "markdown",
   "metadata": {},
   "source": [
    "コピーしたファイル名は、`test1 Copy`になっていますね。\n",
    "\n",
    "このように、`copy_worksheet`を使うと、\"Copy\"と付いた状態でコピーされます。"
   ]
  },
  {
   "cell_type": "markdown",
   "metadata": {},
   "source": [
    "## シートを削除する\n",
    "\n",
    "シートの作成・コピーときたら、次は「削除」する方法が知りたいですよね。\n",
    "\n",
    "Excelファイルからシートを削除するには、`remove`を使います。"
   ]
  },
  {
   "cell_type": "code",
   "execution_count": null,
   "metadata": {},
   "outputs": [],
   "source": [
    "# test1を削除する\n",
    "wb.remove(wb['test1'])\n",
    "\n",
    "# シート一覧を確認する\n",
    "print(wb.sheetnames)"
   ]
  },
  {
   "cell_type": "markdown",
   "metadata": {},
   "source": [
    "シート一覧を確認してみると、`test1`が削除されていますね。\n",
    "\n",
    "このように、名前を指定してシートを削除することも可能ですし、以下のようにインデックス指定でシート削除することもできます。"
   ]
  },
  {
   "cell_type": "code",
   "execution_count": null,
   "metadata": {},
   "outputs": [],
   "source": [
    "# インデックス指定で、シートを削除する\n",
    "wb.remove(wb.worksheets[0])\n",
    "\n",
    "# シート一覧を確認する\n",
    "print(wb.sheetnames)"
   ]
  },
  {
   "cell_type": "markdown",
   "metadata": {},
   "source": [
    "こちらのとおりです。\n",
    "\n",
    "\n",
    "ここまで分かると、Excelファイルとその中に入っているシートの操作が、自由にできるようになっているはずです^^"
   ]
  },
  {
   "cell_type": "markdown",
   "metadata": {},
   "source": [
    "# 演習\n",
    "\n",
    "シート名が(`≫raw`, `data`)のExcelファイルを、**5枚**作成しましょう。\n",
    "\n",
    "また、シート`≫raw`については、色を赤に変更しておきましょう。"
   ]
  },
  {
   "cell_type": "code",
   "execution_count": null,
   "metadata": {},
   "outputs": [],
   "source": [
    "for i in range(5):\n",
    "    file_name = 'test_file{}.xlsx'.format(i)\n",
    "    print(file_name)\n",
    "    wb = openpyxl.Workbook()\n",
    "    wb.active\n",
    "    \n",
    "    # シート名の変更\n",
    "    ws = wb['Sheet']\n",
    "    ws.title = '≫raw'\n",
    "    \n",
    "    # タブの色を変更する\n",
    "    ws.sheet_properties.tabColor = \"fc0303\"\n",
    "    \n",
    "    # シートを追加する\n",
    "    wb.create_sheet(title='data')\n",
    "    \n",
    "    # 確認\n",
    "    print(wb.sheetnames)\n",
    "    \n",
    "    wb.save(file_name)"
   ]
  },
  {
   "cell_type": "markdown",
   "metadata": {},
   "source": [
    "少し難しかったかもしれません...！\n",
    "\n",
    "でも、こういった処理を書けるようになると、一気に自動化に近づきますよね！\n",
    "\n",
    "今後もこのように、少しずつ演習を挟みながら学習していきたいと思います。一緒に頑張っていきましょう！"
   ]
  },
  {
   "cell_type": "code",
   "execution_count": null,
   "metadata": {},
   "outputs": [],
   "source": []
  }
 ],
 "metadata": {
  "kernelspec": {
   "display_name": "Python 3",
   "language": "python",
   "name": "python3"
  },
  "language_info": {
   "codemirror_mode": {
    "name": "ipython",
    "version": 3
   },
   "file_extension": ".py",
   "mimetype": "text/x-python",
   "name": "python",
   "nbconvert_exporter": "python",
   "pygments_lexer": "ipython3",
   "version": "3.7.3"
  },
  "toc": {
   "base_numbering": 1,
   "nav_menu": {},
   "number_sections": true,
   "sideBar": true,
   "skip_h1_title": false,
   "title_cell": "Table of Contents",
   "title_sidebar": "Contents",
   "toc_cell": false,
   "toc_position": {},
   "toc_section_display": true,
   "toc_window_display": true
  }
 },
 "nbformat": 4,
 "nbformat_minor": 4
}
