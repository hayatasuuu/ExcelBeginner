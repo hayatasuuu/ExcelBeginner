{
 "cells": [
  {
   "cell_type": "markdown",
   "metadata": {},
   "source": [
    "# 必要なライブラリのインポート\n",
    "\n",
    "今回のレクチャーでも、前回同様に`openpyxl`をインポートしていきましょう。"
   ]
  },
  {
   "cell_type": "code",
   "execution_count": 135,
   "metadata": {},
   "outputs": [],
   "source": [
    "import openpyxl"
   ]
  },
  {
   "cell_type": "markdown",
   "metadata": {},
   "source": [
    "また、今回使うためのExcelシートを先に作成しておきましょう。"
   ]
  },
  {
   "cell_type": "code",
   "execution_count": 136,
   "metadata": {},
   "outputs": [],
   "source": [
    "wb = openpyxl.Workbook()\n",
    "wb.active\n",
    "wb.save('test.xlsx')"
   ]
  },
  {
   "cell_type": "markdown",
   "metadata": {},
   "source": [
    "# STEP3 : セルの取り扱い\n",
    "\n",
    "Excel操作を分解すると、以下のようになります。\n",
    "\n",
    "- ファイルの操作\n",
    "- シートの操作\n",
    "- セルの操作\n",
    "\n",
    "今回は「セルの操作」の最終回で、以下の内容を学習していきます。\n",
    "\n",
    "- セルの値の読み書き\n",
    "- セルの書式設定\n",
    "- フォントの変更\n",
    "\n",
    "ここまで学習すると、Pythonを使ったExcel操作の基本が、すべて身についている状態になります。頑張っていきましょう！\n",
    "\n",
    "<br>\n",
    "\n",
    "なお、以前に学習した内容は以下のとおりです。\n",
    "\n",
    "- Section5\n",
    "  - 1つのセルを指定する方法\n",
    "  - 複数のセルを指定する方法\n",
    "- Section6\n",
    "  - 制限付きで複数のセルを指定する方法\n",
    "  - 行単位でセルを指定する方法\n",
    "  - セルの場所(=現在地)を確認する方法\n",
    " \n",
    " \n",
    " 内容に不安がある場合には、ぜひ復習してから取り組んでみてください。"
   ]
  },
  {
   "cell_type": "markdown",
   "metadata": {},
   "source": [
    "## セルの値の読み書き\n",
    "\n",
    "前回までのレクチャーで、セルを指定する方法を学びました。今回は実際に、指定したセルに対して処理をおこなっていきましょう。\n",
    "\n",
    "まずは、編集するシートと、セルを指定していきます。"
   ]
  },
  {
   "cell_type": "code",
   "execution_count": 137,
   "metadata": {},
   "outputs": [
    {
     "data": {
      "text/plain": [
       "<Cell 'Sheet'.A1>"
      ]
     },
     "execution_count": 137,
     "metadata": {},
     "output_type": "execute_result"
    }
   ],
   "source": [
    "# 編集するシートを選択\n",
    "ws = wb['Sheet']\n",
    "\n",
    "# A1セルを指定する\n",
    "cell1 = ws.cell(row=1, column=1)\n",
    "cell1"
   ]
  },
  {
   "cell_type": "markdown",
   "metadata": {},
   "source": [
    "上記のコードを実行すると、操作するシートとセルの指定が可能になります。\n",
    "\n",
    "いまはA1のセルに対して、操作できる状態になっているというわけです。\n",
    "\n",
    "<br>\n",
    "\n",
    "現状、A1セルに何が入っているか確認してみましょう。"
   ]
  },
  {
   "cell_type": "code",
   "execution_count": 138,
   "metadata": {},
   "outputs": [
    {
     "name": "stdout",
     "output_type": "stream",
     "text": [
      "None\n"
     ]
    }
   ],
   "source": [
    "# cell1の中身を確認する\n",
    "print(cell1.value)"
   ]
  },
  {
   "cell_type": "markdown",
   "metadata": {},
   "source": [
    "セルの中身を確認すると、`None`になっています。これは、セルを指定しただけで、まだ何も操作していないからです。\n",
    "\n",
    "このセルに対して、実際に値を入れるためには、同じく`cell1.value`を使って以下のよう書いてあげます。"
   ]
  },
  {
   "cell_type": "code",
   "execution_count": 139,
   "metadata": {},
   "outputs": [],
   "source": [
    "# cell1の中に、数字の1を格納する\n",
    "cell1.value = 1"
   ]
  },
  {
   "cell_type": "markdown",
   "metadata": {},
   "source": [
    "これだけでA1セルの中に、数字の1を格納できました。実際に、中身を確認していきましょう。"
   ]
  },
  {
   "cell_type": "code",
   "execution_count": 140,
   "metadata": {},
   "outputs": [
    {
     "name": "stdout",
     "output_type": "stream",
     "text": [
      "1\n"
     ]
    }
   ],
   "source": [
    "# cell1の中身を確認する\n",
    "print(cell1.value)"
   ]
  },
  {
   "cell_type": "markdown",
   "metadata": {},
   "source": [
    "このように、A1セルに数字の1が格納できていますね。これを実際のExcelファイルに反映させようと思います。\n",
    "\n",
    "*※というのも、Excelファイルに反映するには、`wb.save()`をする必要があったからですね!*\n",
    "\n",
    "\n",
    "作成したときと同じ名前のファイルで、Excelファイルを保存してあげましょう。"
   ]
  },
  {
   "cell_type": "code",
   "execution_count": 141,
   "metadata": {},
   "outputs": [],
   "source": [
    "# 変更を保存する\n",
    "wb.save('test.xlsx')"
   ]
  },
  {
   "cell_type": "markdown",
   "metadata": {},
   "source": [
    "実際のExcelファイルを見てみると、A1セルに数字の1が格納できているかと思います。\n",
    "\n",
    "<br>\n",
    "\n",
    "さらに、もう少し指定するセルを増やして、Excelファイルを編集してみましょう。"
   ]
  },
  {
   "cell_type": "code",
   "execution_count": 142,
   "metadata": {},
   "outputs": [
    {
     "name": "stdout",
     "output_type": "stream",
     "text": [
      "セルの名前： A2\n",
      "セルの値： None\n"
     ]
    }
   ],
   "source": [
    "# A2セルを指定する\n",
    "cell2 = ws.cell(row=2, column=1)\n",
    "print('セルの名前：', cell2.coordinate)\n",
    "print('セルの値：', cell2.value)"
   ]
  },
  {
   "cell_type": "markdown",
   "metadata": {},
   "source": [
    "A2セルを指定すると、中身に何も入っていないことが分かりますね。\n",
    "\n",
    "今回はA2セルに数字の2を格納してみたいと思います。"
   ]
  },
  {
   "cell_type": "code",
   "execution_count": 143,
   "metadata": {},
   "outputs": [],
   "source": [
    "# A2セルに数字の2を格納する\n",
    "cell2.value = 2"
   ]
  },
  {
   "cell_type": "markdown",
   "metadata": {},
   "source": [
    "実際に格納できているのか確認してみましょう。"
   ]
  },
  {
   "cell_type": "code",
   "execution_count": 144,
   "metadata": {},
   "outputs": [
    {
     "name": "stdout",
     "output_type": "stream",
     "text": [
      "2\n"
     ]
    }
   ],
   "source": [
    "# セルの中身を確認する\n",
    "print(cell2.value)"
   ]
  },
  {
   "cell_type": "markdown",
   "metadata": {},
   "source": [
    "しっかりと、A2セルに数字の2を格納できています。\n",
    "\n",
    "<br>\n",
    "\n",
    "また、今までは以下のように「セルを指定して、その後に値を格納する」という手順を踏んでいました。\n",
    "\n",
    "```\n",
    "# セルを指定して、\n",
    "cell1 = ws.cell(row=1, column=1)\n",
    "\n",
    "# その後に値を格納する\n",
    "cell1.value = 1\n",
    "```\n",
    "このように、いったんセルを指定しなくても、`ws.cell()`を使ってあげれば、1行で値の指定まで可能です。"
   ]
  },
  {
   "cell_type": "code",
   "execution_count": 145,
   "metadata": {},
   "outputs": [],
   "source": [
    "# A3セルに、数字の10を格納する\n",
    "cell3 = ws.cell(row=3, column=1, value=10)"
   ]
  },
  {
   "cell_type": "markdown",
   "metadata": {},
   "source": [
    "これで、A3セルに数字の10を格納できました。実際に確認してみましょう。"
   ]
  },
  {
   "cell_type": "code",
   "execution_count": 146,
   "metadata": {},
   "outputs": [
    {
     "name": "stdout",
     "output_type": "stream",
     "text": [
      "セルの名前： A3\n",
      "セルの値： 10\n"
     ]
    }
   ],
   "source": [
    "# セルの名前と中身を確認する\n",
    "print('セルの名前：', cell3.coordinate)\n",
    "print('セルの値：', cell3.value)"
   ]
  },
  {
   "cell_type": "markdown",
   "metadata": {},
   "source": [
    "ちゃんと数字の10が入っていることが分かります。PythonでExcel操作するときは、基本的に上記の方法でセル操作するのがおすすめです。\n",
    "\n",
    "<br>\n",
    "\n",
    "ここまで色々とセルを編集してきたので、一度シートに保存しておきましょう。"
   ]
  },
  {
   "cell_type": "code",
   "execution_count": 147,
   "metadata": {},
   "outputs": [],
   "source": [
    "# 変更を保存する\n",
    "wb.save('test.xlsx')"
   ]
  },
  {
   "cell_type": "markdown",
   "metadata": {},
   "source": [
    "保存したExcelシートを見てみると、しっかりと値を格納できていますね。"
   ]
  },
  {
   "cell_type": "markdown",
   "metadata": {},
   "source": [
    "## セルの数式書き込み\n",
    "\n",
    "ここまでは、数値をPythonで書き込む方法を紹介してきました。\n",
    "\n",
    "ただ、Excelを使っていくと数式を取り扱いたいときがあるかと思います。(というか、表計算ソフトなので、マストで数式は使いますね！笑)\n",
    "\n",
    "<br>\n",
    "\n",
    "先ほどA列に格納した1, 2, 10に対して、SUM関数を使ってみましょう。\n",
    "\n",
    "そのために、まずはどのセルでSUM関数を使うのか指定してあげます。"
   ]
  },
  {
   "cell_type": "code",
   "execution_count": 148,
   "metadata": {},
   "outputs": [
    {
     "name": "stdout",
     "output_type": "stream",
     "text": [
      "B1\n"
     ]
    }
   ],
   "source": [
    "# B1セルを指定する\n",
    "cell4 = ws.cell(1, 2)\n",
    "print(cell4.coordinate)"
   ]
  },
  {
   "cell_type": "markdown",
   "metadata": {},
   "source": [
    "今回は、B1セルを指定しました。A列の合計結果を、右に集計してあげるイメージですね。\n",
    "\n",
    "<br>\n",
    "\n",
    "このセルに対して、値を格納するときは`1`などの数字をそのまま書いてあげました。それと同じ要領で、数式を格納するには以下のように書いてあげます。"
   ]
  },
  {
   "cell_type": "code",
   "execution_count": 149,
   "metadata": {},
   "outputs": [],
   "source": [
    "# B1セルにSUM関数を記述する\n",
    "cell4.value = \"=SUM(A1:A3)\""
   ]
  },
  {
   "cell_type": "markdown",
   "metadata": {},
   "source": [
    "\n",
    "これで、B1セルにSUM関数が書かれている状態になっています。これはPython上だと単純な文字列が格納されているだけです。実際に中身を確認してみましょう。"
   ]
  },
  {
   "cell_type": "code",
   "execution_count": 150,
   "metadata": {},
   "outputs": [
    {
     "name": "stdout",
     "output_type": "stream",
     "text": [
      "=SUM(A1:A3)\n"
     ]
    }
   ],
   "source": [
    "# B1セルの中身を確認する\n",
    "print(cell4.value)"
   ]
  },
  {
   "cell_type": "markdown",
   "metadata": {},
   "source": [
    "上記のように、Pythonでは文字列のままですね。でも、Excelファイルにこの処理を反映してあげると、A1〜A3までを合計してくれます。\n",
    "\n",
    "Excelのセルに、数式を書いているのと同じになるんですね。\n",
    "\n",
    "<br>\n",
    "\n",
    "実際にExcelファイルを保存して、中身を確認してみましょう。"
   ]
  },
  {
   "cell_type": "code",
   "execution_count": 151,
   "metadata": {},
   "outputs": [],
   "source": [
    "# Excelファイルを保存する\n",
    "wb.save('test.xlsx')"
   ]
  },
  {
   "cell_type": "markdown",
   "metadata": {},
   "source": [
    "ファイルの中身を見ると分かりますが、数字の13ではなく、数式が書かれている状態になります。\n",
    "\n",
    "このように、文字列をセル内に書き込んであげることで、Excelの数式を使えるようになります。\n",
    "\n",
    "<br>\n",
    "\n",
    "また、Python上でセルの中身を確認するには、for文を使って以下のように書いてあげます。"
   ]
  },
  {
   "cell_type": "code",
   "execution_count": 152,
   "metadata": {},
   "outputs": [
    {
     "name": "stdout",
     "output_type": "stream",
     "text": [
      "(1, '=SUM(A1:A3)')\n",
      "(2, None)\n",
      "(10, None)\n"
     ]
    }
   ],
   "source": [
    "# for文を使って、シート内のセル全体を表示する\n",
    "for row in ws.values:\n",
    "    print(row)"
   ]
  },
  {
   "cell_type": "markdown",
   "metadata": {},
   "source": [
    "A1〜A3には数値が、B1のセルにはSUM関数を使った数式が格納されていることが分かりますね。\n",
    "\n",
    "<br>\n",
    "\n",
    "ここまで習得しておくと、セルの読み書きを自由自在におこなえるようになります。"
   ]
  },
  {
   "cell_type": "markdown",
   "metadata": {},
   "source": [
    "## セルの書式設定\n",
    "\n",
    "セルの読み書きだけでなく、Pythonを使うとセルの書式設定まで可能です。\n",
    "\n",
    "セルの書式設定というのは、以下のようなことですね。\n",
    "\n",
    "- セルの表示を、小数点にする\n",
    "- セルの日付表示を変更する\n",
    "\n",
    "これをPythonを使って、やってみましょう。\n",
    "\n",
    "まずは、B2セルに数字の`1.2345`を格納します。"
   ]
  },
  {
   "cell_type": "code",
   "execution_count": 153,
   "metadata": {},
   "outputs": [
    {
     "name": "stdout",
     "output_type": "stream",
     "text": [
      "B2\n",
      "1.2345\n"
     ]
    }
   ],
   "source": [
    "# B2セルに対して、1.2345を格納する\n",
    "cell5 = ws.cell(row=2, column=2, value=1.2345)\n",
    "print(cell5.coordinate)\n",
    "print(cell5.value)"
   ]
  },
  {
   "cell_type": "markdown",
   "metadata": {},
   "source": [
    "これでB2セルに、`1.2345`を格納できますね。さらに、B3には`2020/10/10`を格納します。\n",
    "\n",
    "Pythonで日付を扱うには、`datetime`から`dateオブジェクト`をimportする必要があります。"
   ]
  },
  {
   "cell_type": "code",
   "execution_count": 154,
   "metadata": {},
   "outputs": [],
   "source": [
    "# datetimeから、dateをinportする\n",
    "from datetime import date"
   ]
  },
  {
   "cell_type": "markdown",
   "metadata": {},
   "source": [
    "これで、日付を扱う準備ができました。\n",
    "\n",
    "ここまでできたら、B3セルに2020/10/10を格納しましょう。日付を作成するには、`dateオブジェクト`に年→月→日の順番で数字を格納すればOKです。"
   ]
  },
  {
   "cell_type": "code",
   "execution_count": 155,
   "metadata": {},
   "outputs": [
    {
     "name": "stdout",
     "output_type": "stream",
     "text": [
      "B3\n",
      "2020-10-10\n"
     ]
    }
   ],
   "source": [
    "# B3セルに対して、2020/10/10を格納する\n",
    "cell6 = ws.cell(row=3, column=2, value=date(2020, 10, 10))\n",
    "print(cell6.coordinate)\n",
    "print(cell6.value)"
   ]
  },
  {
   "cell_type": "markdown",
   "metadata": {},
   "source": [
    "これで、B2セルとB3セルの編集ができました。\n",
    "\n",
    "一度この状態でExcelファイルを保存して、実際に中身を確認してみましょう。"
   ]
  },
  {
   "cell_type": "code",
   "execution_count": 156,
   "metadata": {},
   "outputs": [],
   "source": [
    "# Excelファイルを保存する\n",
    "wb.save('test.xlsx')"
   ]
  },
  {
   "cell_type": "markdown",
   "metadata": {},
   "source": [
    "そうすると、B2セルは`1.2345`でB3セルは`2020-10-10`になっており、先ほど追加した内容がそのまま反映されていますね。\n",
    "\n",
    "この2つのセルに対して、以下のような書式変更を加えてみたいと思います。\n",
    "\n",
    "- B2セル : 小数第2ケタまでの表示に変更する\n",
    "- B3セル : 2020年10月10日の形に変更する\n",
    "\n",
    "現在の書式を確認するのも、書式を変更するのも、`number_format`を使ってあげればOKです。"
   ]
  },
  {
   "cell_type": "code",
   "execution_count": 161,
   "metadata": {},
   "outputs": [
    {
     "name": "stdout",
     "output_type": "stream",
     "text": [
      "B2セルの書式設定： General\n",
      "B3セルの書式設定： yyyy-mm-dd\n"
     ]
    }
   ],
   "source": [
    "# B2セルの書式を確認する\n",
    "print('B2セルの書式設定：', ws['B2'].number_format)\n",
    "\n",
    "# B3セルの書式を確認する\n",
    "print('B3セルの書式設定：', ws['B3'].number_format)"
   ]
  },
  {
   "cell_type": "markdown",
   "metadata": {},
   "source": [
    "確認してみると、B2セルは\"General\"でB3セルは\"yyyy-mm-dd\"になっていますね。\n",
    "\n",
    "この書式を変更してみましょう。"
   ]
  },
  {
   "cell_type": "code",
   "execution_count": 163,
   "metadata": {},
   "outputs": [],
   "source": [
    "# B2セルを、小数第2ケタに変更\n",
    "ws['B2'].number_format = '0.00'\n",
    "\n",
    "# B3セルを、2020年10月10日の形に変更\n",
    "ws['B3'].number_format = 'yyyy年mm月dd日'"
   ]
  },
  {
   "cell_type": "markdown",
   "metadata": {},
   "source": [
    "これで書式の変更ができたはずです。実際に確認してみましょう。"
   ]
  },
  {
   "cell_type": "code",
   "execution_count": 166,
   "metadata": {},
   "outputs": [
    {
     "name": "stdout",
     "output_type": "stream",
     "text": [
      "B2セルの書式設定： 0.00\n",
      "B3セルの書式設定： yyyy年mm月dd日\n"
     ]
    }
   ],
   "source": [
    "# B2セルの書式を確認する\n",
    "print('B2セルの書式設定：', ws['B2'].number_format)\n",
    "\n",
    "# B3セルの書式を確認する\n",
    "print('B3セルの書式設定：', ws['B3'].number_format)"
   ]
  },
  {
   "cell_type": "markdown",
   "metadata": {},
   "source": [
    "ちゃんと書式の変更ができていますね。\n",
    "\n",
    "それではExcelファイルに保存して、中身を確認してみましょう。"
   ]
  },
  {
   "cell_type": "code",
   "execution_count": 167,
   "metadata": {},
   "outputs": [],
   "source": [
    "# 保存してみる\n",
    "wb.save('test.xlsx')"
   ]
  },
  {
   "cell_type": "markdown",
   "metadata": {},
   "source": [
    "ちゃんと書式の変更ができています。これで、Pythonを使ったセルの書式設定ができるようになりました。"
   ]
  },
  {
   "cell_type": "markdown",
   "metadata": {},
   "source": [
    "## フォントの変更\n",
    "\n",
    "セルの書式設定以外にも、フォント自体の変更が可能です。\n",
    "今まではフォントの変更を加えていませんでしたが、今回は以下のようなフォントの装飾をおこないたいと思います。\n",
    "\n",
    "- bold体にする\n",
    "- イタリック体にする\n",
    "\n",
    "Pythonを使ってフォント変更をするには、`openpyxl.styles.Font()`を使えば簡単に実行できます。\n",
    "\n",
    "今回はA3セルに対して、実行してみましょう。"
   ]
  },
  {
   "cell_type": "code",
   "execution_count": 168,
   "metadata": {},
   "outputs": [],
   "source": [
    "# A3セルのフォントを、bold体 + イタリック体に変更する\n",
    "ws['A3'].font = openpyxl.styles.Font(bold=True, italic=True)"
   ]
  },
  {
   "cell_type": "markdown",
   "metadata": {},
   "source": [
    "これだけでフォントの変更が完了します。\n",
    "\n",
    "再びExcelシートを保存して、変更を反映させた状態で確認してみましょう。"
   ]
  },
  {
   "cell_type": "code",
   "execution_count": 170,
   "metadata": {},
   "outputs": [],
   "source": [
    "# シートを保存する\n",
    "wb.save('test.xlsx')"
   ]
  },
  {
   "cell_type": "markdown",
   "metadata": {},
   "source": [
    "確認してみると、A3セルに格納されていた数字の10が、太字+斜めになっていることが分かりますね。\n",
    "\n",
    "しっかりとフォント変更ができました！"
   ]
  },
  {
   "cell_type": "markdown",
   "metadata": {},
   "source": [
    "# Python × Excel超入門まとめ\n",
    "\n",
    "以上でPython × Excel超入門コースは終了になります。PythonでExcel操作するための基礎をしっかりと学べたのではないでしょうか？\n",
    "\n",
    "このコースで学んだ内容とPythonのスキルを活かすと、「Excelで自動化したい」と思っていることを実現できるようになっているはずです。\n",
    "\n",
    "<br>\n",
    "\n",
    "とはいえ、今回のように基礎編の知識だけだと、イマイチPythonを使って自動化する破壊力が伝わりにくいですよね。\n",
    "\n",
    "そのために、このコースの第1回目でもお伝えしましたが、この後に実践コースを行う予定です。\n",
    "\n",
    "見逃さないためにも、チャンネル登録してお待ちいただけると嬉しいです！(僕もモチベーションが上がるので...！)\n",
    "\n",
    "[» YouTubeチャンネル](https://www.youtube.com/channel/UC1uj19dZQXa17-SqNGpVNLw)\n",
    "<br>\n",
    "\n",
    "引き続き、頑張っていきましょう(｀・ω・´)！\n"
   ]
  },
  {
   "cell_type": "code",
   "execution_count": null,
   "metadata": {},
   "outputs": [],
   "source": []
  }
 ],
 "metadata": {
  "kernelspec": {
   "display_name": "Python 3",
   "language": "python",
   "name": "python3"
  },
  "language_info": {
   "codemirror_mode": {
    "name": "ipython",
    "version": 3
   },
   "file_extension": ".py",
   "mimetype": "text/x-python",
   "name": "python",
   "nbconvert_exporter": "python",
   "pygments_lexer": "ipython3",
   "version": "3.7.7"
  },
  "toc": {
   "base_numbering": 1,
   "nav_menu": {
    "height": "12px",
    "width": "160px"
   },
   "number_sections": true,
   "sideBar": true,
   "skip_h1_title": false,
   "title_cell": "Table of Contents",
   "title_sidebar": "Contents",
   "toc_cell": false,
   "toc_position": {
    "height": "calc(100% - 180px)",
    "left": "10px",
    "top": "150px",
    "width": "225px"
   },
   "toc_section_display": true,
   "toc_window_display": true
  }
 },
 "nbformat": 4,
 "nbformat_minor": 4
}
